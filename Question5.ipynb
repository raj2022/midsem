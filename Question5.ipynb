{
 "cells": [
  {
   "cell_type": "code",
   "execution_count": 2,
   "id": "4a2426c3",
   "metadata": {},
   "outputs": [
    {
     "name": "stdout",
     "output_type": "stream",
     "text": [
      "Enter order of matrix: 5\n"
     ]
    }
   ],
   "source": [
    "import numpy as np\n",
    "import sys\n",
    "\n",
    "# Reading order of matrix\n",
    "n = int(input('Enter order of matrix: '))\n",
    "\n",
    "# Making numpy array of n x n size and initializing \n",
    "# to zero for storing matrix\n",
    "a = np.zeros((n,n))\n"
   ]
  },
  {
   "cell_type": "code",
   "execution_count": 4,
   "id": "c2563ae5",
   "metadata": {},
   "outputs": [
    {
     "name": "stdout",
     "output_type": "stream",
     "text": [
      "Enter Matrix Coefficients:\n",
      "a[0][0]=2\n",
      "a[0][1]=-1\n",
      "a[0][2]=0\n",
      "a[0][3]=0\n",
      "a[0][4]=0\n",
      "a[1][0]=-1\n",
      "a[1][1]=2\n",
      "a[1][2]=-1\n",
      "a[1][3]=0\n",
      "a[1][4]=0\n",
      "a[2][0]=0\n",
      "a[2][1]=-1\n",
      "a[2][2]=2\n",
      "a[2][3]=-1\n",
      "a[2][4]=0\n",
      "a[3][0]=0\n",
      "a[3][1]=0\n",
      "a[3][2]=-1\n",
      "a[3][3]=2\n",
      "a[3][4]=-1\n",
      "a[4][0]=0\n",
      "a[4][1]=0\n",
      "a[4][2]=0\n",
      "a[4][3]=-1\n",
      "a[4][4]=2\n"
     ]
    }
   ],
   "source": [
    "# Reading matrix\n",
    "print('Enter Matrix Coefficients:')\n",
    "for i in range(n):\n",
    "    for j in range(n):\n",
    "        a[i][j] = float(input( 'a['+str(i)+']['+ str(j)+']='))\n",
    "\n"
   ]
  },
  {
   "cell_type": "code",
   "execution_count": 5,
   "id": "e81448c7",
   "metadata": {},
   "outputs": [
    {
     "name": "stdout",
     "output_type": "stream",
     "text": [
      "Enter initial guess vector: \n",
      "x[0]=0\n",
      "x[1]=0\n",
      "x[2]=1\n",
      "x[3]=1\n",
      "x[4]=1\n",
      "Enter tolerable error: 0.001\n",
      "Enter maximum number of steps: 10\n"
     ]
    }
   ],
   "source": [
    "# Making numpy array n x 1 size and initializing to zero\n",
    "# for storing initial guess vector\n",
    "x = np.zeros((n))\n",
    "\n",
    "# Reading initial guess vector\n",
    "print('Enter initial guess vector: ')\n",
    "for i in range(n):\n",
    "    x[i] = float(input( 'x['+str(i)+']='))\n",
    "\n",
    "# Reading tolerable error\n",
    "tolerable_error = float(input('Enter tolerable error: '))\n",
    "\n",
    "# Reading maximum number of steps\n",
    "max_iteration = int(input('Enter maximum number of steps: '))\n"
   ]
  },
  {
   "cell_type": "code",
   "execution_count": 6,
   "id": "8a23a604",
   "metadata": {},
   "outputs": [
    {
     "name": "stdout",
     "output_type": "stream",
     "text": [
      "\n",
      "STEP 1\n",
      "----------\n",
      "Eigen Value = 1.0000\n",
      "Eigen Vector: \n",
      "0.000\t\n",
      "-1.000\t\n",
      "1.000\t\n",
      "0.000\t\n",
      "1.000\t\n",
      "errror=0.0\n"
     ]
    }
   ],
   "source": [
    "# Power Method Implementation\n",
    "lambda_old = 1.0\n",
    "condition =  True\n",
    "step = 1\n",
    "while condition:\n",
    "    # Multiplying a and x\n",
    "    x = np.matmul(a,x)\n",
    "\n",
    "    # Finding new Eigen value and Eigen vector\n",
    "    lambda_new = max(abs(x))\n",
    "\n",
    "    x = x/lambda_new\n",
    "\n",
    "    # Displaying Eigen value and Eigen Vector\n",
    "    print('\\nSTEP %d' %(step))\n",
    "    print('----------')\n",
    "    print('Eigen Value = %0.4f' %(lambda_new))\n",
    "    print('Eigen Vector: ')\n",
    "    for i in range(n):\n",
    "        print('%0.3f\\t' % (x[i]))\n",
    "\n",
    "    # Checking maximum iteration\n",
    "    step = step + 1\n",
    "    if step > max_iteration:\n",
    "        print('Not convergent in given maximum iteration!')\n",
    "        break\n",
    "\n",
    "    # Calculating error\n",
    "    error = abs(lambda_new - lambda_old)\n",
    "    print('errror='+ str(error))\n",
    "    lambda_old = lambda_new\n",
    "    condition = error > tolerable_error\n"
   ]
  },
  {
   "cell_type": "code",
   "execution_count": 7,
   "id": "5379de75",
   "metadata": {},
   "outputs": [],
   "source": [
    "#Hence the eigen value is 1.000\n",
    "# Eigen vectors are:- 0.000, -1.000, 1.000, 0.000, 1.000"
   ]
  },
  {
   "cell_type": "code",
   "execution_count": null,
   "id": "13a09937",
   "metadata": {},
   "outputs": [],
   "source": [
    "#defining the given equations\n"
   ]
  }
 ],
 "metadata": {
  "kernelspec": {
   "display_name": "Python 3 (ipykernel)",
   "language": "python",
   "name": "python3"
  },
  "language_info": {
   "codemirror_mode": {
    "name": "ipython",
    "version": 3
   },
   "file_extension": ".py",
   "mimetype": "text/x-python",
   "name": "python",
   "nbconvert_exporter": "python",
   "pygments_lexer": "ipython3",
   "version": "3.9.7"
  }
 },
 "nbformat": 4,
 "nbformat_minor": 5
}
