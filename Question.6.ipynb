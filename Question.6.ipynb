{
 "cells": [
  {
   "cell_type": "markdown",
   "id": "bb9d3123",
   "metadata": {},
   "source": [
    " Solve the linear system of equation A x = b, where A and b are given in the file msmatinv.txt\n",
    "using both Jacobi and Gauss-Seidel iterative methods to a precision of 10e-5"
   ]
  },
  {
   "cell_type": "markdown",
   "id": "b5e55c37",
   "metadata": {},
   "source": [
    "# Gauss Seidel Method"
   ]
  },
  {
   "cell_type": "code",
   "execution_count": 34,
   "id": "badb332a",
   "metadata": {},
   "outputs": [],
   "source": [
    "A = [[-2 , 0 , 0, -1, 0 , 0.5], \n",
    "    [ 0,   4,    0.5,   0,    1,    0],\n",
    "    [0 ,   0.5,  1.5 ,  0  ,  0  ,  0],\n",
    "   [-1  ,  0  ,  0  ,  -2 ,   0 ,  1],\n",
    "   [ 0   , 1 ,   0  ,   0  , -2.5 , 0],\n",
    "    [ 0.5 , 0 ,   0   ,  1 ,   0 ,  -3.75]]"
   ]
  },
  {
   "cell_type": "code",
   "execution_count": 3,
   "id": "6996307e",
   "metadata": {},
   "outputs": [
    {
     "data": {
      "text/plain": [
       "[-1, 0, 2.75, 2.5, -3, 2]"
      ]
     },
     "execution_count": 3,
     "metadata": {},
     "output_type": "execute_result"
    }
   ],
   "source": [
    "b"
   ]
  },
  {
   "cell_type": "code",
   "execution_count": 24,
   "id": "afd4751c",
   "metadata": {},
   "outputs": [],
   "source": [
    "x1 = 0\n",
    "x2 = 0\n",
    "x3 = 0\n",
    "x4 = 0\n",
    "x5 =0\n",
    "x6 =0\n",
    "\n",
    "epsilon = 0.00001\n",
    "converged = False\n"
   ]
  },
  {
   "cell_type": "code",
   "execution_count": 25,
   "id": "320e39b4",
   "metadata": {},
   "outputs": [],
   "source": [
    "import numpy as np"
   ]
  },
  {
   "cell_type": "code",
   "execution_count": 28,
   "id": "6a364e78",
   "metadata": {},
   "outputs": [
    {
     "name": "stdout",
     "output_type": "stream",
     "text": [
      "Iteration results\n",
      " k,    x1,    x2,    x3,    x4,     x5,  x6\n",
      "1, 1.3544, -0.4983, 1.9994, -2.4183, 1.0007, -0.9976\n",
      "2, 1.4598, -0.5001, 2.0000, -2.4787, 1.0000, -0.9997\n",
      "3, 1.4894, -0.5000, 2.0000, -2.4946, 1.0000, -1.0000\n",
      "4, 1.4973, -0.5000, 2.0000, -2.4986, 1.0000, -1.0000\n",
      "5, 1.4993, -0.5000, 2.0000, -2.4997, 1.0000, -1.0000\n",
      "6, 1.4998, -0.5000, 2.0000, -2.4999, 1.0000, -1.0000\n",
      "7, 1.5000, -0.5000, 2.0000, -2.5000, 1.0000, -1.0000\n",
      "8, 1.5000, -0.5000, 2.0000, -2.5000, 1.0000, -1.0000\n",
      "9, 1.5000, -0.5000, 2.0000, -2.5000, 1.0000, -1.0000\n",
      "Converged!\n"
     ]
    }
   ],
   "source": [
    "x_old = np.array([x1, x2, x3, x4, x5 , x6])\n",
    "print('Iteration results')\n",
    "print(' k,    x1,    x2,    x3,    x4,     x5,  x6' )\n",
    "for k in range(1, 50):\n",
    "    x1 = (-1 + x4 - 0.5*x6)/-2\n",
    "    x2 = (-x5-0.5*x3sol = jacobi(A,b,N=25,x=guess)\n",
    ")/4\n",
    "    x3 = (2.75-0.5*x2)/1.5\n",
    "    x4 = (2.5 +x1 - x6)/-2\n",
    "    x5 = (-3 - x2)/-2.5\n",
    "    x6 = (2 - x4 - 0.5*x1)/-3.75\n",
    "    x = np.array([x1, x2, x3, x4, x5, x6])\n",
    "    # check if it is smaller than threshold\n",
    "    dx = np.sqrt(np.dot(x-x_old, x-x_old))\n",
    "    \n",
    "    print(\"%d, %.4f, %.4f, %.4f, %.4f, %.4f, %.4f\"%(k, x1, x2, x3, x4, x5, x6))\n",
    "    if dx < epsilon:\n",
    "        converged = True\n",
    "        print('Converged!')\n",
    "        break\n",
    "        \n",
    "    # assign the latest x value to the old value\n",
    "    x_old = x\n",
    "\n",
    "if not converged:\n",
    "    print('Not converge, increase the # of iterations')\n",
    "\n",
    "    \n",
    "    \n",
    "    \n",
    "    \n",
    "              "
   ]
  },
  {
   "cell_type": "markdown",
   "id": "3ae68007",
   "metadata": {},
   "source": [
    "# Jacobi iterative method"
   ]
  },
  {
   "cell_type": "code",
   "execution_count": 51,
   "id": "19b40e6a",
   "metadata": {},
   "outputs": [],
   "source": [
    "from numpy import array, zeros, diag, diagflat, dot\n",
    "from pprint import pprint\n"
   ]
  },
  {
   "cell_type": "code",
   "execution_count": 52,
   "id": "fc133d7f",
   "metadata": {},
   "outputs": [],
   "source": [
    "A =np.array([[-2 , 0 , 0, -1, 0 , 0.5], \n",
    "    [ 0,   4,    0.5,   0,    1,    0],\n",
    "    [0 ,   0.5,  1.5 ,  0  ,  0  ,  0],\n",
    "   [-1  ,  0  ,  0  ,  -2 ,   0 ,  1],\n",
    "   [ 0   , 1 ,   0  ,   0  , -2.5 , 0],\n",
    "    [ 0.5 , 0 ,   0   ,  1 ,   0 ,  -3.75]])"
   ]
  },
  {
   "cell_type": "code",
   "execution_count": 56,
   "id": "71051e7d",
   "metadata": {},
   "outputs": [],
   "source": [
    "b = np.array([-1,  0,  2.75,  2.5, -3,  2])"
   ]
  },
  {
   "cell_type": "code",
   "execution_count": 57,
   "id": "f590559a",
   "metadata": {},
   "outputs": [],
   "source": [
    "def jacobi(A,b,N=25,x=None):\n",
    "    \"\"\"Solves the equation Ax=b via the Jacobi iterative method.\"\"\"\n",
    "    # Create an initial guess if needed                                                                                                                                                            \n",
    "    if x is None:\n",
    "        x = np.zeros(len(A[0]))\n",
    "\n",
    "    # Create a vector of the diagonal elements of A                                                                                                                                                \n",
    "    # and subtract them from A                                                                                                                                                                     \n",
    "    D = np.diag(A)\n",
    "    R = A - np.diagflat(D)\n",
    "\n",
    "    # Iterate for N times                                                                                                                                                                          \n",
    "    for i in range(N):\n",
    "        x = (b - np.dot(R,x)) / D\n",
    "    return x"
   ]
  },
  {
   "cell_type": "code",
   "execution_count": 58,
   "id": "b83bdcb3",
   "metadata": {},
   "outputs": [],
   "source": [
    "guess = np.array([1.0,1.0,1.0,1.0,1.0,1.0])"
   ]
  },
  {
   "cell_type": "code",
   "execution_count": 61,
   "id": "e257bd46",
   "metadata": {},
   "outputs": [
    {
     "name": "stdout",
     "output_type": "stream",
     "text": [
      "A:\n",
      "array([[-2.  ,  0.  ,  0.  , -1.  ,  0.  ,  0.5 ],\n",
      "       [ 0.  ,  4.  ,  0.5 ,  0.  ,  1.  ,  0.  ],\n",
      "       [ 0.  ,  0.5 ,  1.5 ,  0.  ,  0.  ,  0.  ],\n",
      "       [-1.  ,  0.  ,  0.  , -2.  ,  0.  ,  1.  ],\n",
      "       [ 0.  ,  1.  ,  0.  ,  0.  , -2.5 ,  0.  ],\n",
      "       [ 0.5 ,  0.  ,  0.  ,  1.  ,  0.  , -3.75]])\n",
      "b:\n",
      "array([-1.  ,  0.  ,  2.75,  2.5 , -3.  ,  2.  ])\n",
      "x:\n",
      "array([ 1.49991255, -0.5       ,  2.        , -2.5000972 ,  1.        ,\n",
      "       -0.99994705])\n"
     ]
    }
   ],
   "source": [
    "sol = jacobi(A,b,N=25,x=guess)\n",
    "print (\"A:\")\n",
    "pprint(A)\n",
    "\n",
    "print (\"b:\")\n",
    "pprint(b)\n",
    "\n",
    "print (\"x:\")\n",
    "pprint(sol)"
   ]
  },
  {
   "cell_type": "code",
   "execution_count": null,
   "id": "ecfea68d",
   "metadata": {},
   "outputs": [],
   "source": []
  },
  {
   "cell_type": "code",
   "execution_count": null,
   "id": "d96be3c8",
   "metadata": {},
   "outputs": [],
   "source": []
  }
 ],
 "metadata": {
  "kernelspec": {
   "display_name": "Python 3 (ipykernel)",
   "language": "python",
   "name": "python3"
  },
  "language_info": {
   "codemirror_mode": {
    "name": "ipython",
    "version": 3
   },
   "file_extension": ".py",
   "mimetype": "text/x-python",
   "name": "python",
   "nbconvert_exporter": "python",
   "pygments_lexer": "ipython3",
   "version": "3.9.7"
  }
 },
 "nbformat": 4,
 "nbformat_minor": 5
}
