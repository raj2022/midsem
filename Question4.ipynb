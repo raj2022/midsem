{
 "cells": [
  {
   "cell_type": "markdown",
   "id": "3030f358",
   "metadata": {},
   "source": [
    "1        106        10\n",
    "15        80        9\n",
    "30        98        10\n",
    "45        75        9\n",
    "60        74        8\n",
    "75        73        8\n",
    "90        49        7\n",
    "105        38        6\n",
    "120        37        6\n",
    "135        22        5"
   ]
  },
  {
   "cell_type": "code",
   "execution_count": null,
   "id": "83a8b3aa",
   "metadata": {},
   "outputs": [],
   "source": []
  },
  {
   "cell_type": "code",
   "execution_count": null,
   "id": "0771b2c5",
   "metadata": {},
   "outputs": [],
   "source": []
  },
  {
   "cell_type": "code",
   "execution_count": null,
   "id": "4bb7acef",
   "metadata": {},
   "outputs": [],
   "source": []
  }
 ],
 "metadata": {
  "kernelspec": {
   "display_name": "Python 3 (ipykernel)",
   "language": "python",
   "name": "python3"
  },
  "language_info": {
   "codemirror_mode": {
    "name": "ipython",
    "version": 3
   },
   "file_extension": ".py",
   "mimetype": "text/x-python",
   "name": "python",
   "nbconvert_exporter": "python",
   "pygments_lexer": "ipython3",
   "version": "3.9.7"
  }
 },
 "nbformat": 4,
 "nbformat_minor": 5
}
